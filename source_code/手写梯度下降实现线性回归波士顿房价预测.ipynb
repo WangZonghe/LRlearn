{
 "cells": [
  {
   "cell_type": "code",
   "execution_count": 1,
   "id": "bdbd4017-d283-4e82-ab5c-41be4d1902f6",
   "metadata": {},
   "outputs": [],
   "source": [
    "import numpy as np\n",
    "import pandas as pd\n",
    "import matplotlib.pyplot as plt"
   ]
  },
  {
   "cell_type": "code",
   "execution_count": 26,
   "id": "cc667eb7-5acd-44b1-a9d1-a7b486086e73",
   "metadata": {},
   "outputs": [],
   "source": [
    "from sklearn.preprocessing import StandardScaler\n",
    "from sklearn.model_selection import train_test_split\n",
    "from sklearn.linear_model import LinearRegression"
   ]
  },
  {
   "cell_type": "code",
   "execution_count": 3,
   "id": "d77939c7-3a0b-4b52-a9e7-31c8d96a7513",
   "metadata": {},
   "outputs": [],
   "source": [
    "data_url = \"http://lib.stat.cmu.edu/datasets/boston\"\n",
    "raw_df = pd.read_csv(data_url, sep=\"\\s+\", skiprows=22, header=None)\n",
    "data = np.hstack([raw_df.values[::2, :], raw_df.values[1::2, :2]])\n",
    "target = raw_df.values[1::2, 2]"
   ]
  },
  {
   "cell_type": "markdown",
   "id": "c96a89c7-e573-4b2d-9433-45626444a94d",
   "metadata": {},
   "source": [
    "## 一、特征工程"
   ]
  },
  {
   "cell_type": "code",
   "execution_count": 6,
   "id": "78b5d403-54e1-40ad-b0db-183dbd83192a",
   "metadata": {},
   "outputs": [],
   "source": [
    "X = data.copy()\n",
    "y = target.copy()\n",
    "\n",
    "scaler = StandardScaler()\n",
    "X = scaler.fit_transform(X)"
   ]
  },
  {
   "cell_type": "code",
   "execution_count": 10,
   "id": "c39ce472-4f6c-4840-a23c-3804434d7212",
   "metadata": {},
   "outputs": [],
   "source": [
    "# 使用numpy库的concatenate函数，将全1数组（形状为(506,1)）与X进行横向拼接，并将结果赋值给X\n",
    "X = np.concatenate((X, np.ones(shape=(X.shape[0], 1))), axis=1)"
   ]
  },
  {
   "cell_type": "code",
   "execution_count": 12,
   "id": "10cbfe95-d4e4-407f-9293-1e6de7545c69",
   "metadata": {},
   "outputs": [],
   "source": [
    "X_train, X_test, y_train, y_test = train_test_split(X, y, test_size=0.2)"
   ]
  },
  {
   "cell_type": "code",
   "execution_count": 13,
   "id": "4b7ff0c9-9996-427a-ae65-2ff6bb941aab",
   "metadata": {},
   "outputs": [
    {
     "data": {
      "text/plain": [
       "(404, 14)"
      ]
     },
     "metadata": {},
     "output_type": "display_data"
    },
    {
     "data": {
      "text/plain": [
       "(102, 14)"
      ]
     },
     "metadata": {},
     "output_type": "display_data"
    }
   ],
   "source": [
    "display(X_train.shape, X_test.shape)"
   ]
  },
  {
   "cell_type": "code",
   "execution_count": 14,
   "id": "fea20283-fdf2-40a5-a24e-33665e1308c0",
   "metadata": {},
   "outputs": [
    {
     "data": {
      "text/plain": [
       "(404,)"
      ]
     },
     "metadata": {},
     "output_type": "display_data"
    },
    {
     "data": {
      "text/plain": [
       "(102,)"
      ]
     },
     "metadata": {},
     "output_type": "display_data"
    }
   ],
   "source": [
    "display(y_train.shape, y_test.shape)"
   ]
  },
  {
   "cell_type": "code",
   "execution_count": 20,
   "id": "d21b4be3-ded0-4092-81a1-fa825604a126",
   "metadata": {},
   "outputs": [],
   "source": [
    "feature_names = ['crim','zn','indus','chas','nox','rm','age','dis','rad','tax','ptradio','b','lstat']"
   ]
  },
  {
   "cell_type": "code",
   "execution_count": 21,
   "id": "35ddb208-8ac9-4c3c-8370-78d15d2e7740",
   "metadata": {},
   "outputs": [
    {
     "data": {
      "text/html": [
       "<div>\n",
       "<style scoped>\n",
       "    .dataframe tbody tr th:only-of-type {\n",
       "        vertical-align: middle;\n",
       "    }\n",
       "\n",
       "    .dataframe tbody tr th {\n",
       "        vertical-align: top;\n",
       "    }\n",
       "\n",
       "    .dataframe thead th {\n",
       "        text-align: right;\n",
       "    }\n",
       "</style>\n",
       "<table border=\"1\" class=\"dataframe\">\n",
       "  <thead>\n",
       "    <tr style=\"text-align: right;\">\n",
       "      <th></th>\n",
       "      <th>crim</th>\n",
       "      <th>zn</th>\n",
       "      <th>indus</th>\n",
       "      <th>chas</th>\n",
       "      <th>nox</th>\n",
       "      <th>rm</th>\n",
       "      <th>age</th>\n",
       "      <th>dis</th>\n",
       "      <th>rad</th>\n",
       "      <th>tax</th>\n",
       "      <th>ptradio</th>\n",
       "      <th>b</th>\n",
       "      <th>lstat</th>\n",
       "    </tr>\n",
       "  </thead>\n",
       "  <tbody>\n",
       "    <tr>\n",
       "      <th>0</th>\n",
       "      <td>0.00632</td>\n",
       "      <td>18.0</td>\n",
       "      <td>2.31</td>\n",
       "      <td>0.0</td>\n",
       "      <td>0.538</td>\n",
       "      <td>6.575</td>\n",
       "      <td>65.2</td>\n",
       "      <td>4.0900</td>\n",
       "      <td>1.0</td>\n",
       "      <td>296.0</td>\n",
       "      <td>15.3</td>\n",
       "      <td>396.90</td>\n",
       "      <td>4.98</td>\n",
       "    </tr>\n",
       "    <tr>\n",
       "      <th>1</th>\n",
       "      <td>0.02731</td>\n",
       "      <td>0.0</td>\n",
       "      <td>7.07</td>\n",
       "      <td>0.0</td>\n",
       "      <td>0.469</td>\n",
       "      <td>6.421</td>\n",
       "      <td>78.9</td>\n",
       "      <td>4.9671</td>\n",
       "      <td>2.0</td>\n",
       "      <td>242.0</td>\n",
       "      <td>17.8</td>\n",
       "      <td>396.90</td>\n",
       "      <td>9.14</td>\n",
       "    </tr>\n",
       "    <tr>\n",
       "      <th>2</th>\n",
       "      <td>0.02729</td>\n",
       "      <td>0.0</td>\n",
       "      <td>7.07</td>\n",
       "      <td>0.0</td>\n",
       "      <td>0.469</td>\n",
       "      <td>7.185</td>\n",
       "      <td>61.1</td>\n",
       "      <td>4.9671</td>\n",
       "      <td>2.0</td>\n",
       "      <td>242.0</td>\n",
       "      <td>17.8</td>\n",
       "      <td>392.83</td>\n",
       "      <td>4.03</td>\n",
       "    </tr>\n",
       "    <tr>\n",
       "      <th>3</th>\n",
       "      <td>0.03237</td>\n",
       "      <td>0.0</td>\n",
       "      <td>2.18</td>\n",
       "      <td>0.0</td>\n",
       "      <td>0.458</td>\n",
       "      <td>6.998</td>\n",
       "      <td>45.8</td>\n",
       "      <td>6.0622</td>\n",
       "      <td>3.0</td>\n",
       "      <td>222.0</td>\n",
       "      <td>18.7</td>\n",
       "      <td>394.63</td>\n",
       "      <td>2.94</td>\n",
       "    </tr>\n",
       "    <tr>\n",
       "      <th>4</th>\n",
       "      <td>0.06905</td>\n",
       "      <td>0.0</td>\n",
       "      <td>2.18</td>\n",
       "      <td>0.0</td>\n",
       "      <td>0.458</td>\n",
       "      <td>7.147</td>\n",
       "      <td>54.2</td>\n",
       "      <td>6.0622</td>\n",
       "      <td>3.0</td>\n",
       "      <td>222.0</td>\n",
       "      <td>18.7</td>\n",
       "      <td>396.90</td>\n",
       "      <td>5.33</td>\n",
       "    </tr>\n",
       "  </tbody>\n",
       "</table>\n",
       "</div>"
      ],
      "text/plain": [
       "      crim    zn  indus  chas    nox     rm   age     dis  rad    tax  \\\n",
       "0  0.00632  18.0   2.31   0.0  0.538  6.575  65.2  4.0900  1.0  296.0   \n",
       "1  0.02731   0.0   7.07   0.0  0.469  6.421  78.9  4.9671  2.0  242.0   \n",
       "2  0.02729   0.0   7.07   0.0  0.469  7.185  61.1  4.9671  2.0  242.0   \n",
       "3  0.03237   0.0   2.18   0.0  0.458  6.998  45.8  6.0622  3.0  222.0   \n",
       "4  0.06905   0.0   2.18   0.0  0.458  7.147  54.2  6.0622  3.0  222.0   \n",
       "\n",
       "   ptradio       b  lstat  \n",
       "0     15.3  396.90   4.98  \n",
       "1     17.8  396.90   9.14  \n",
       "2     17.8  392.83   4.03  \n",
       "3     18.7  394.63   2.94  \n",
       "4     18.7  396.90   5.33  "
      ]
     },
     "execution_count": 21,
     "metadata": {},
     "output_type": "execute_result"
    }
   ],
   "source": [
    "house_df = pd.DataFrame(data=data, columns=feature_names)\n",
    "house_df.head()"
   ]
  },
  {
   "cell_type": "markdown",
   "id": "013a7885-a008-48a8-ac6e-163ac4e94863",
   "metadata": {},
   "source": [
    "## 二、线性回归正规方程求解"
   ]
  },
  {
   "cell_type": "markdown",
   "id": "b3ad3822-9e0e-4eba-a49e-560b0df36db7",
   "metadata": {},
   "source": [
    "$$\n",
    "\\theta = (X^TX)^{-1}X^Ty\n",
    "$$"
   ]
  },
  {
   "cell_type": "code",
   "execution_count": 15,
   "id": "bc80fb1b-4a0d-4a3b-abcc-176459588046",
   "metadata": {},
   "outputs": [],
   "source": [
    "theta = np.linalg.inv(X_train.T.dot(X_train)).dot(X_train.T).dot(y_train)"
   ]
  },
  {
   "cell_type": "code",
   "execution_count": 16,
   "id": "80168cb7-49c0-4d89-b0a3-2409cf4eecee",
   "metadata": {},
   "outputs": [
    {
     "data": {
      "text/plain": [
       "array([-0.87655644,  1.07293926, -0.08713625,  0.74059517, -1.67957774,\n",
       "        3.05106013, -0.56954433, -3.18522123,  1.87696934, -1.93774574,\n",
       "       -1.83357079,  0.9455599 , -2.89280636, 22.22124102])"
      ]
     },
     "execution_count": 16,
     "metadata": {},
     "output_type": "execute_result"
    }
   ],
   "source": [
    "theta"
   ]
  },
  {
   "cell_type": "code",
   "execution_count": 19,
   "id": "b75c3519-df45-4362-82fb-429b678469a8",
   "metadata": {},
   "outputs": [
    {
     "data": {
      "text/plain": [
       "array([-0.87655644,  1.07293926, -0.08713625,  0.74059517, -1.67957774,\n",
       "        3.05106013, -0.56954433, -3.18522123,  1.87696934, -1.93774574,\n",
       "       -1.83357079,  0.9455599 , -2.89280636])"
      ]
     },
     "metadata": {},
     "output_type": "display_data"
    },
    {
     "data": {
      "text/plain": [
       "array([22.22124102])"
      ]
     },
     "metadata": {},
     "output_type": "display_data"
    }
   ],
   "source": [
    "w = theta[:-1]\n",
    "b = theta[[-1]]\n",
    "display(w, b)"
   ]
  },
  {
   "cell_type": "markdown",
   "id": "de25a7eb-7a4e-4112-b793-169f568972d6",
   "metadata": {},
   "source": [
    "## 三、特征选择"
   ]
  },
  {
   "cell_type": "code",
   "execution_count": 29,
   "id": "addf0767-fd98-4b89-9dc3-f3c20e18c822",
   "metadata": {},
   "outputs": [
    {
     "data": {
      "image/png": "[encoded data removed]",
      "text/plain": [
       "<Figure size 1440x1440 with 13 Axes>"
      ]
     },
     "metadata": {
      "needs_background": "light"
     },
     "output_type": "display_data"
    }
   ],
   "source": [
    "plt.figure(figsize=(4*5, 4*5))\n",
    "\n",
    "for i, col in enumerate(feature_names, start=1):\n",
    "    X = house_df[[col]].values\n",
    "    linear = LinearRegression()\n",
    "    linear.fit(X, target)\n",
    "    X_test = np.linspace(X.min(), X.max(), num=100).reshape(-1, 1)\n",
    "    y_ = linear.predict(X_test)\n",
    "    axes = plt.subplot(4, 4, i)\n",
    "    axes.scatter(X, target)\n",
    "    axes.plot(X_test, y_, c='r')\n",
    "    axes.set_title(f'feature:{col}')"
   ]
  },
  {
   "cell_type": "markdown",
   "id": "e5f1f159-13dd-4432-89cd-2a1402b49a88",
   "metadata": {},
   "source": [
    "## 四、批量梯度下降算法（BGD）"
   ]
  },
  {
   "cell_type": "code",
   "execution_count": 49,
   "id": "692cf34c-717a-4b55-a28b-56e8d5864eab",
   "metadata": {},
   "outputs": [],
   "source": [
    "# 随机初始化参数\n",
    "theta = np.random.randn(14, 1)\n",
    "\n",
    "# 定义学习率\n",
    "eta = 0.0005\n",
    "\n",
    "# 初始化损失和上一次损失\n",
    "loss = 0\n",
    "last_loss = 1"
   ]
  },
  {
   "cell_type": "markdown",
   "id": "79553cdd-1ee0-4582-b34f-f90c502b09cd",
   "metadata": {},
   "source": [
    "梯度计算公式是通过矩阵运算得到的:\n",
    "\n",
    "- 计算预测值：X_train.dot(theta)\n",
    "- 计算误差：y_train.reshape(404,1) - X_train.dot(theta)\n",
    "- 计算梯度：X_train.T.dot(X_train.dot(theta)-y_train.reshape(404,1))"
   ]
  },
  {
   "cell_type": "code",
   "execution_count": 145,
   "id": "0dcf6fd4-136e-49d8-a8b6-4fa38242b512",
   "metadata": {},
   "outputs": [
    {
     "data": {
      "text/plain": [
       "(404, 14)"
      ]
     },
     "execution_count": 145,
     "metadata": {},
     "output_type": "execute_result"
    }
   ],
   "source": [
    "X_train.shape  # 意味着索引是 0到 403"
   ]
  },
  {
   "cell_type": "code",
   "execution_count": 51,
   "id": "ef226870-68af-4c26-9e88-2fc4e7c1e8ad",
   "metadata": {},
   "outputs": [
    {
     "data": {
      "text/plain": [
       "(14, 1)"
      ]
     },
     "execution_count": 51,
     "metadata": {},
     "output_type": "execute_result"
    }
   ],
   "source": [
    "theta.shape"
   ]
  },
  {
   "cell_type": "markdown",
   "id": "dd66f451-b875-44f2-85e9-78e1f14f5c18",
   "metadata": {},
   "source": [
    "首先定义了损失函数梯度g的计算。这里的损失函数用的是均方误差（MSE），它是预测值与真实值之间的平方和的均值。对于线性回归模型$y=X\\theta$（其中$X$是特征矩阵，$\\theta$是模型参数向量，$y是目标向量$）MSE可以写作$\\frac{1}{2n}\\left \\| X\\theta-y \\right \\|^2$，其梯度（即损失函数关于$\\theta$的导数）为$X^T(X\\theta-y)$"
   ]
  },
  {
   "cell_type": "code",
   "execution_count": 52,
   "id": "aae8c866-a547-4aff-a08e-e3f18fcf4bab",
   "metadata": {},
   "outputs": [
    {
     "name": "stdout",
     "output_type": "stream",
     "text": [
      "loss:159257.21708890187\n",
      "loss:7391.460768638754\n",
      "loss:7383.349686429309\n",
      "loss:7382.742936995375\n",
      "loss:7382.694246657431\n"
     ]
    }
   ],
   "source": [
    "# 迭代1000次\n",
    "for i in range(2000):\n",
    "    # 如果损失值的变化小于0.00001，则提前终止迭代\n",
    "    if np.abs(loss - last_loss) < 1e-5:\n",
    "        break\n",
    "    # 计算梯度g，BGD特点：使用所有的训练数据来计算梯度\n",
    "    g = X_train.T.dot(X_train.dot(theta)-y_train.reshape(-1,1))\n",
    "    # 更新theta参数\n",
    "    theta = theta - eta*g\n",
    "    # 更新上一轮损失数值last_loss为当前损失值\n",
    "    last_loss = loss\n",
    "    # 更新当前损失，使用训练数据和参数计算预测值与实际值的差值，然后平方求和\n",
    "    loss = ((X_train.dot(theta) - y_train.reshape(-1, 1))**2).sum()\n",
    "    if i % 100 == 0:\n",
    "        print(f'loss:{loss}')"
   ]
  },
  {
   "cell_type": "code",
   "execution_count": 53,
   "id": "fdf5d4eb-124d-43a3-9040-b18096bd9ebf",
   "metadata": {},
   "outputs": [
    {
     "data": {
      "text/plain": [
       "array([[-0.87639318],\n",
       "       [ 1.07255279],\n",
       "       [-0.08820932],\n",
       "       [ 0.74074084],\n",
       "       [-1.67946457],\n",
       "       [ 3.05128611],\n",
       "       [-0.56972206],\n",
       "       [-3.18533191],\n",
       "       [ 1.87451539],\n",
       "       [-1.93492853],\n",
       "       [-1.83350817],\n",
       "       [ 0.94553196],\n",
       "       [-2.89260487],\n",
       "       [22.2212482 ]])"
      ]
     },
     "execution_count": 53,
     "metadata": {},
     "output_type": "execute_result"
    }
   ],
   "source": [
    "theta"
   ]
  },
  {
   "cell_type": "markdown",
   "id": "1f538a97-5077-46a8-aae4-08fb0f9fc0d2",
   "metadata": {},
   "source": [
    "## 五、随机梯度下降算法（SGD）"
   ]
  },
  {
   "cell_type": "code",
   "execution_count": 140,
   "id": "dd41b557-06bf-48a4-a9ea-a699f699423d",
   "metadata": {},
   "outputs": [],
   "source": [
    "theta = np.random.randn(14, 1)\n",
    "t0 = 1\n",
    "t1 = 1000\n",
    "t = 0"
   ]
  },
  {
   "cell_type": "code",
   "execution_count": 141,
   "id": "dece695b-663c-4b48-9ac4-7cd0583eecdf",
   "metadata": {},
   "outputs": [],
   "source": [
    "def learn(t):\n",
    "    return t0 / (t + t1)"
   ]
  },
  {
   "cell_type": "code",
   "execution_count": 142,
   "id": "d671e167-820c-45e7-967f-d969f6d2714e",
   "metadata": {},
   "outputs": [],
   "source": [
    "loss = 0\n",
    "last_loss = 1"
   ]
  },
  {
   "cell_type": "code",
   "execution_count": 146,
   "id": "c7cf0541-dabb-46d1-b05d-2c5b7a93bf4a",
   "metadata": {},
   "outputs": [
    {
     "data": {
      "text/plain": [
       "array([300])"
      ]
     },
     "execution_count": 146,
     "metadata": {},
     "output_type": "execute_result"
    }
   ],
   "source": [
    "# 从0到403（包括0和403）之间随机选择一个整数，生成一个一维数组\n",
    "np.random.choice(404, size=1)"
   ]
  },
  {
   "cell_type": "code",
   "execution_count": 147,
   "id": "e15151e6-6009-4bfc-a19a-ac4f33ea2661",
   "metadata": {},
   "outputs": [],
   "source": [
    "# 设置迭代次数上限\n",
    "for i in range(2000):\n",
    "    # 如果损失值变化小于阈值，则停止迭代\n",
    "    if np.abs(loss - last_loss) < 1e-7:\n",
    "        break\n",
    "    # 随机选择一个样本\n",
    "    index = np.random.choice(404, size=1)\n",
    "    X_i = X_train[index]  # X_train.shape 是 (404, 14)\n",
    "    y_i = y_train[index]\n",
    "    # 计算梯度\n",
    "    g = X_i.T.dot(X_i.dot(theta) - y_i)\n",
    "    # 更新学习率\n",
    "    eta = learn(t)\n",
    "    # 更新参数\n",
    "    theta = theta - eta*g\n",
    "    # 更新损失函数值\n",
    "    last_loss = loss\n",
    "    loss = ((X_i.dot(theta) - y_i)**2).sum()"
   ]
  },
  {
   "cell_type": "code",
   "execution_count": 148,
   "id": "4d4c281f-dc15-4c70-95ac-ca0364a300a1",
   "metadata": {},
   "outputs": [
    {
     "data": {
      "text/plain": [
       "array([[0, 2],\n",
       "       [2, 1]])"
      ]
     },
     "execution_count": 148,
     "metadata": {},
     "output_type": "execute_result"
    }
   ],
   "source": [
    "# 随机一个从[0, 5)中取值，size=(2, 2)的矩阵\n",
    "np.random.choice(5, size=(2, 2))"
   ]
  },
  {
   "cell_type": "code",
   "execution_count": 150,
   "id": "9c96b38f-42c0-4b18-8ff1-6949f4a085ff",
   "metadata": {},
   "outputs": [
    {
     "data": {
      "text/plain": [
       "array([[-0.48242719],\n",
       "       [-0.02305249],\n",
       "       [-1.08076809],\n",
       "       [ 1.44044761],\n",
       "       [-0.61221533],\n",
       "       [ 3.16150137],\n",
       "       [-0.82075964],\n",
       "       [-1.8383025 ],\n",
       "       [ 0.4263733 ],\n",
       "       [-0.23368445],\n",
       "       [-1.86397758],\n",
       "       [ 0.67486518],\n",
       "       [-2.9515222 ],\n",
       "       [19.6615836 ]])"
      ]
     },
     "execution_count": 150,
     "metadata": {},
     "output_type": "execute_result"
    }
   ],
   "source": [
    "theta"
   ]
  },
  {
   "cell_type": "markdown",
   "id": "d106b5d3-fbb0-47fd-9e4a-d8b0d9ade558",
   "metadata": {},
   "source": [
    "## 六、小批量梯度下降算法（MBGD）"
   ]
  },
  {
   "cell_type": "code",
   "execution_count": 205,
   "id": "b421b24b-8091-4766-8799-b7186a67f275",
   "metadata": {},
   "outputs": [],
   "source": [
    "# 初始化参数theta，eta，损失值loss，上一轮损失值last_loss，批量大小break_size\n",
    "theta = np.random.randn(14, 1)"
   ]
  },
  {
   "cell_type": "code",
   "execution_count": 206,
   "id": "2509e76f-5a47-42cc-a20d-3dfd54b29591",
   "metadata": {},
   "outputs": [],
   "source": [
    "eta = 0.0001\n",
    "loss = 0\n",
    "last_loss = 1"
   ]
  },
  {
   "cell_type": "code",
   "execution_count": 207,
   "id": "43762b52-b384-4974-9555-f3a85f662f5a",
   "metadata": {},
   "outputs": [],
   "source": [
    "batch_size = 32"
   ]
  },
  {
   "cell_type": "code",
   "execution_count": 208,
   "id": "29729d3a-3f52-4c06-a6b6-b7d22f2d98d4",
   "metadata": {},
   "outputs": [
    {
     "data": {
      "text/plain": [
       "array([0, 1, 2, 3, 4, 5, 6, 7, 8, 9])"
      ]
     },
     "execution_count": 208,
     "metadata": {},
     "output_type": "execute_result"
    }
   ],
   "source": [
    "arr = np.arange(10)\n",
    "arr"
   ]
  },
  {
   "cell_type": "markdown",
   "id": "7d85a40e-abdc-4f14-b33d-8e4f8873a71b",
   "metadata": {},
   "source": [
    "np.random.shuffle(arr) 和 np.random.permutation(arr) 都是NumPy库中用于随机重排数组元素的函数，但它们之间存在一些关键区别：\n",
    "\n",
    "1、in-place操作 vs 返回新数组：\n",
    "\n",
    "- np.random.shuffle(arr)：这个函数会就地修改输入的数组arr，直接对其进行随机重排，不返回任何值（返回None）。原数组的元素顺序会被永久改变。\n",
    "- np.random.permutation(arr)：这个函数不会修改输入的数组，而是返回一个新的数组，该数组包含输入数组的元素，但顺序是随机排列的。原数组保持不变。\n",
    "\n",
    "\n",
    "2、输入灵活性：\n",
    "\n",
    "- np.random.shuffle(arr)：要求输入的arr是一个一维数组或者是一个可迭代对象（在实践中，通常是一维数组）。它不能直接应用于多维数组的整个结构上进行shuffle。\n",
    "- np.random.permutation(arr)：更加灵活，可以接受一维数组、整数或者一个多维数组作为输入。如果输入是整数n，则返回一个从0到n-1的随机排列数组；如果是多维数组，它会首先将多维数组扁平化为一维，然后再进行随机排列，但最终返回的仍然是与原数组形状相同的排列结果。"
   ]
  },
  {
   "cell_type": "code",
   "execution_count": 209,
   "id": "f8be92fe-4e2d-43cc-becd-dd3e935ee2e8",
   "metadata": {},
   "outputs": [
    {
     "data": {
      "text/plain": [
       "array([0, 9, 2, 5, 1, 4, 8, 7, 6, 3])"
      ]
     },
     "execution_count": 209,
     "metadata": {},
     "output_type": "execute_result"
    }
   ],
   "source": [
    "# shuffle会就地修改输入的数组\n",
    "np.random.shuffle(arr)\n",
    "arr"
   ]
  },
  {
   "cell_type": "code",
   "execution_count": 210,
   "id": "15a1237b-fdde-46e1-b631-793ba8494d48",
   "metadata": {},
   "outputs": [
    {
     "data": {
      "text/plain": [
       "array([8, 2, 1, 0, 6, 9, 4, 5, 3, 7])"
      ]
     },
     "execution_count": 210,
     "metadata": {},
     "output_type": "execute_result"
    }
   ],
   "source": [
    "# permutation返回一个新的数组，该数组包含输入数组的元素，但顺序是随机排列的。原数组保持不变。\n",
    "np.random.permutation(arr)"
   ]
  },
  {
   "cell_type": "code",
   "execution_count": 211,
   "id": "7f7bef01-b7cf-4702-adb2-7a910664ae1a",
   "metadata": {
    "scrolled": true
   },
   "outputs": [
    {
     "name": "stdout",
     "output_type": "stream",
     "text": [
      "loss:602.4040227484167\n",
      "loss:598.1484840545108\n",
      "loss:778.3738032835249\n",
      "loss:476.57962638145034\n",
      "loss:497.6360235262325\n",
      "loss:491.97074296005223\n",
      "loss:471.6563377232094\n",
      "loss:404.8122349597404\n",
      "loss:592.6572850860276\n",
      "loss:501.98807433328653\n",
      "loss:451.4236484142788\n",
      "loss:398.3842040615193\n",
      "loss:333.32353747947826\n",
      "loss:400.5461846415296\n",
      "loss:359.39186741891956\n",
      "loss:379.7946332553499\n",
      "loss:376.6975335873087\n",
      "loss:373.4331436457978\n",
      "loss:297.5957995980375\n",
      "loss:436.14237376254175\n",
      "loss:329.36263968942944\n",
      "loss:245.23339517370394\n",
      "loss:373.3849021302159\n",
      "loss:273.12761177078255\n",
      "loss:258.8289058023844\n"
     ]
    }
   ],
   "source": [
    "# 迭代5000次\n",
    "for i in range(5000):\n",
    "    # 如果损失值变化小于1e-7，跳出循环\n",
    "    if np.abs(loss - last_loss) < 1e-7:\n",
    "        break\n",
    "    # 随机选择一个小批量样本索引\n",
    "    batch_indices = np.random.choice(len(X_train), size=batch_size, replace=False)\n",
    "    # 根据批量索引获取训练数据和标签\n",
    "    X_batch = X_train[batch_indices]\n",
    "    y_batch = y_train[batch_indices]\n",
    "    # 计算小批量的梯度\n",
    "    gradients_sum = np.zeros_like(theta)\n",
    "    for Xi, yi in zip(X_batch, y_batch):\n",
    "        gradients_sum += ((Xi.dot(theta) - yi) * Xi.reshape(-1, 1))\n",
    "    g = gradients_sum / batch_size\n",
    "    \n",
    "    # 更新参数theta\n",
    "    theta = theta - eta*g\n",
    "    # 更新上一轮损失值\n",
    "    last_loss = loss\n",
    "    # 更新当前轮的损失，这里也可以计算小批量的平均损失代替单个样本的损失累加\n",
    "    loss = np.sum((X_batch.dot(theta) - y_batch.reshape(-1, 1))**2) / batch_size\n",
    "    if i % 200 == 0:\n",
    "        print(f'loss:{loss}')"
   ]
  },
  {
   "cell_type": "code",
   "execution_count": 212,
   "id": "a138df4e-3d69-4820-b03a-999b5de75b87",
   "metadata": {},
   "outputs": [
    {
     "data": {
      "text/plain": [
       "array([[-0.97791063],\n",
       "       [ 1.50657834],\n",
       "       [-1.32540611],\n",
       "       [ 1.46984391],\n",
       "       [-0.68092868],\n",
       "       [ 1.51753931],\n",
       "       [ 0.28468972],\n",
       "       [ 0.39928149],\n",
       "       [-0.34171754],\n",
       "       [-0.30331048],\n",
       "       [-0.45249493],\n",
       "       [ 1.35114108],\n",
       "       [-1.0528564 ],\n",
       "       [ 7.26024179]])"
      ]
     },
     "execution_count": 212,
     "metadata": {},
     "output_type": "execute_result"
    }
   ],
   "source": [
    "theta"
   ]
  },
  {
   "cell_type": "markdown",
   "id": "108c45a0-bd09-49e5-9a1b-83824e16bb9d",
   "metadata": {},
   "source": [
    "## 七、选择一个特征来可视化展示"
   ]
  },
  {
   "cell_type": "code",
   "execution_count": 213,
   "id": "10f4db64-b2aa-466d-b9e0-52a486ae7c7c",
   "metadata": {},
   "outputs": [],
   "source": [
    "X_train = house_df['rm'].values"
   ]
  },
  {
   "cell_type": "code",
   "execution_count": 216,
   "id": "d218e223-57f3-4bd0-a9f9-13bbd275e780",
   "metadata": {},
   "outputs": [
    {
     "data": {
      "text/plain": [
       "(506,)"
      ]
     },
     "execution_count": 216,
     "metadata": {},
     "output_type": "execute_result"
    }
   ],
   "source": [
    "X_train.shape"
   ]
  },
  {
   "cell_type": "code",
   "execution_count": 217,
   "id": "b7028480-9c27-4253-ae8a-58ba80e6055b",
   "metadata": {},
   "outputs": [],
   "source": [
    "X_train = X_train.reshape(-1, 1)"
   ]
  },
  {
   "cell_type": "code",
   "execution_count": 219,
   "id": "d8343369-65ca-4578-81ae-8d9e5a50a9c9",
   "metadata": {},
   "outputs": [
    {
     "data": {
      "text/plain": [
       "(506, 1)"
      ]
     },
     "execution_count": 219,
     "metadata": {},
     "output_type": "execute_result"
    }
   ],
   "source": [
    "X_train.shape"
   ]
  },
  {
   "cell_type": "code",
   "execution_count": 220,
   "id": "68aed271-adc7-46d1-aba8-9e9fbb465b66",
   "metadata": {},
   "outputs": [],
   "source": [
    "X_train = np.concatenate((X_train, np.ones_like(X_train)), axis=1)"
   ]
  },
  {
   "cell_type": "code",
   "execution_count": 221,
   "id": "dd941e7e-3a55-4772-9b5a-484fbe3ae6d9",
   "metadata": {},
   "outputs": [
    {
     "data": {
      "text/plain": [
       "array([[6.575, 1.   ],\n",
       "       [6.421, 1.   ],\n",
       "       [7.185, 1.   ],\n",
       "       ...,\n",
       "       [6.976, 1.   ],\n",
       "       [6.794, 1.   ],\n",
       "       [6.03 , 1.   ]])"
      ]
     },
     "execution_count": 221,
     "metadata": {},
     "output_type": "execute_result"
    }
   ],
   "source": [
    "X_train"
   ]
  },
  {
   "cell_type": "markdown",
   "id": "2ca65b1e-ede7-4801-ad5b-080120bd2253",
   "metadata": {},
   "source": [
    "### BDG"
   ]
  },
  {
   "cell_type": "code",
   "execution_count": 223,
   "id": "ed85c6b0-ae80-449f-8211-234996076a48",
   "metadata": {
    "scrolled": true
   },
   "outputs": [
    {
     "data": {
      "text/plain": [
       "(506,)"
      ]
     },
     "execution_count": 223,
     "metadata": {},
     "output_type": "execute_result"
    }
   ],
   "source": [
    "target.shape"
   ]
  },
  {
   "cell_type": "code",
   "execution_count": 224,
   "id": "0122768a-ae9a-41b9-8c4d-b2edc3e55b91",
   "metadata": {
    "scrolled": true
   },
   "outputs": [
    {
     "data": {
      "text/plain": [
       "array([[24. ],\n",
       "       [21.6],\n",
       "       [34.7],\n",
       "       [33.4],\n",
       "       [36.2],\n",
       "       [28.7],\n",
       "       [22.9],\n",
       "       [27.1],\n",
       "       [16.5],\n",
       "       [18.9],\n",
       "       [15. ],\n",
       "       [18.9],\n",
       "       [21.7],\n",
       "       [20.4],\n",
       "       [18.2],\n",
       "       [19.9],\n",
       "       [23.1],\n",
       "       [17.5],\n",
       "       [20.2],\n",
       "       [18.2],\n",
       "       [13.6],\n",
       "       [19.6],\n",
       "       [15.2],\n",
       "       [14.5],\n",
       "       [15.6],\n",
       "       [13.9],\n",
       "       [16.6],\n",
       "       [14.8],\n",
       "       [18.4],\n",
       "       [21. ],\n",
       "       [12.7],\n",
       "       [14.5],\n",
       "       [13.2],\n",
       "       [13.1],\n",
       "       [13.5],\n",
       "       [18.9],\n",
       "       [20. ],\n",
       "       [21. ],\n",
       "       [24.7],\n",
       "       [30.8],\n",
       "       [34.9],\n",
       "       [26.6],\n",
       "       [25.3],\n",
       "       [24.7],\n",
       "       [21.2],\n",
       "       [19.3],\n",
       "       [20. ],\n",
       "       [16.6],\n",
       "       [14.4],\n",
       "       [19.4],\n",
       "       [19.7],\n",
       "       [20.5],\n",
       "       [25. ],\n",
       "       [23.4],\n",
       "       [18.9],\n",
       "       [35.4],\n",
       "       [24.7],\n",
       "       [31.6],\n",
       "       [23.3],\n",
       "       [19.6],\n",
       "       [18.7],\n",
       "       [16. ],\n",
       "       [22.2],\n",
       "       [25. ],\n",
       "       [33. ],\n",
       "       [23.5],\n",
       "       [19.4],\n",
       "       [22. ],\n",
       "       [17.4],\n",
       "       [20.9],\n",
       "       [24.2],\n",
       "       [21.7],\n",
       "       [22.8],\n",
       "       [23.4],\n",
       "       [24.1],\n",
       "       [21.4],\n",
       "       [20. ],\n",
       "       [20.8],\n",
       "       [21.2],\n",
       "       [20.3],\n",
       "       [28. ],\n",
       "       [23.9],\n",
       "       [24.8],\n",
       "       [22.9],\n",
       "       [23.9],\n",
       "       [26.6],\n",
       "       [22.5],\n",
       "       [22.2],\n",
       "       [23.6],\n",
       "       [28.7],\n",
       "       [22.6],\n",
       "       [22. ],\n",
       "       [22.9],\n",
       "       [25. ],\n",
       "       [20.6],\n",
       "       [28.4],\n",
       "       [21.4],\n",
       "       [38.7],\n",
       "       [43.8],\n",
       "       [33.2],\n",
       "       [27.5],\n",
       "       [26.5],\n",
       "       [18.6],\n",
       "       [19.3],\n",
       "       [20.1],\n",
       "       [19.5],\n",
       "       [19.5],\n",
       "       [20.4],\n",
       "       [19.8],\n",
       "       [19.4],\n",
       "       [21.7],\n",
       "       [22.8],\n",
       "       [18.8],\n",
       "       [18.7],\n",
       "       [18.5],\n",
       "       [18.3],\n",
       "       [21.2],\n",
       "       [19.2],\n",
       "       [20.4],\n",
       "       [19.3],\n",
       "       [22. ],\n",
       "       [20.3],\n",
       "       [20.5],\n",
       "       [17.3],\n",
       "       [18.8],\n",
       "       [21.4],\n",
       "       [15.7],\n",
       "       [16.2],\n",
       "       [18. ],\n",
       "       [14.3],\n",
       "       [19.2],\n",
       "       [19.6],\n",
       "       [23. ],\n",
       "       [18.4],\n",
       "       [15.6],\n",
       "       [18.1],\n",
       "       [17.4],\n",
       "       [17.1],\n",
       "       [13.3],\n",
       "       [17.8],\n",
       "       [14. ],\n",
       "       [14.4],\n",
       "       [13.4],\n",
       "       [15.6],\n",
       "       [11.8],\n",
       "       [13.8],\n",
       "       [15.6],\n",
       "       [14.6],\n",
       "       [17.8],\n",
       "       [15.4],\n",
       "       [21.5],\n",
       "       [19.6],\n",
       "       [15.3],\n",
       "       [19.4],\n",
       "       [17. ],\n",
       "       [15.6],\n",
       "       [13.1],\n",
       "       [41.3],\n",
       "       [24.3],\n",
       "       [23.3],\n",
       "       [27. ],\n",
       "       [50. ],\n",
       "       [50. ],\n",
       "       [50. ],\n",
       "       [22.7],\n",
       "       [25. ],\n",
       "       [50. ],\n",
       "       [23.8],\n",
       "       [23.8],\n",
       "       [22.3],\n",
       "       [17.4],\n",
       "       [19.1],\n",
       "       [23.1],\n",
       "       [23.6],\n",
       "       [22.6],\n",
       "       [29.4],\n",
       "       [23.2],\n",
       "       [24.6],\n",
       "       [29.9],\n",
       "       [37.2],\n",
       "       [39.8],\n",
       "       [36.2],\n",
       "       [37.9],\n",
       "       [32.5],\n",
       "       [26.4],\n",
       "       [29.6],\n",
       "       [50. ],\n",
       "       [32. ],\n",
       "       [29.8],\n",
       "       [34.9],\n",
       "       [37. ],\n",
       "       [30.5],\n",
       "       [36.4],\n",
       "       [31.1],\n",
       "       [29.1],\n",
       "       [50. ],\n",
       "       [33.3],\n",
       "       [30.3],\n",
       "       [34.6],\n",
       "       [34.9],\n",
       "       [32.9],\n",
       "       [24.1],\n",
       "       [42.3],\n",
       "       [48.5],\n",
       "       [50. ],\n",
       "       [22.6],\n",
       "       [24.4],\n",
       "       [22.5],\n",
       "       [24.4],\n",
       "       [20. ],\n",
       "       [21.7],\n",
       "       [19.3],\n",
       "       [22.4],\n",
       "       [28.1],\n",
       "       [23.7],\n",
       "       [25. ],\n",
       "       [23.3],\n",
       "       [28.7],\n",
       "       [21.5],\n",
       "       [23. ],\n",
       "       [26.7],\n",
       "       [21.7],\n",
       "       [27.5],\n",
       "       [30.1],\n",
       "       [44.8],\n",
       "       [50. ],\n",
       "       [37.6],\n",
       "       [31.6],\n",
       "       [46.7],\n",
       "       [31.5],\n",
       "       [24.3],\n",
       "       [31.7],\n",
       "       [41.7],\n",
       "       [48.3],\n",
       "       [29. ],\n",
       "       [24. ],\n",
       "       [25.1],\n",
       "       [31.5],\n",
       "       [23.7],\n",
       "       [23.3],\n",
       "       [22. ],\n",
       "       [20.1],\n",
       "       [22.2],\n",
       "       [23.7],\n",
       "       [17.6],\n",
       "       [18.5],\n",
       "       [24.3],\n",
       "       [20.5],\n",
       "       [24.5],\n",
       "       [26.2],\n",
       "       [24.4],\n",
       "       [24.8],\n",
       "       [29.6],\n",
       "       [42.8],\n",
       "       [21.9],\n",
       "       [20.9],\n",
       "       [44. ],\n",
       "       [50. ],\n",
       "       [36. ],\n",
       "       [30.1],\n",
       "       [33.8],\n",
       "       [43.1],\n",
       "       [48.8],\n",
       "       [31. ],\n",
       "       [36.5],\n",
       "       [22.8],\n",
       "       [30.7],\n",
       "       [50. ],\n",
       "       [43.5],\n",
       "       [20.7],\n",
       "       [21.1],\n",
       "       [25.2],\n",
       "       [24.4],\n",
       "       [35.2],\n",
       "       [32.4],\n",
       "       [32. ],\n",
       "       [33.2],\n",
       "       [33.1],\n",
       "       [29.1],\n",
       "       [35.1],\n",
       "       [45.4],\n",
       "       [35.4],\n",
       "       [46. ],\n",
       "       [50. ],\n",
       "       [32.2],\n",
       "       [22. ],\n",
       "       [20.1],\n",
       "       [23.2],\n",
       "       [22.3],\n",
       "       [24.8],\n",
       "       [28.5],\n",
       "       [37.3],\n",
       "       [27.9],\n",
       "       [23.9],\n",
       "       [21.7],\n",
       "       [28.6],\n",
       "       [27.1],\n",
       "       [20.3],\n",
       "       [22.5],\n",
       "       [29. ],\n",
       "       [24.8],\n",
       "       [22. ],\n",
       "       [26.4],\n",
       "       [33.1],\n",
       "       [36.1],\n",
       "       [28.4],\n",
       "       [33.4],\n",
       "       [28.2],\n",
       "       [22.8],\n",
       "       [20.3],\n",
       "       [16.1],\n",
       "       [22.1],\n",
       "       [19.4],\n",
       "       [21.6],\n",
       "       [23.8],\n",
       "       [16.2],\n",
       "       [17.8],\n",
       "       [19.8],\n",
       "       [23.1],\n",
       "       [21. ],\n",
       "       [23.8],\n",
       "       [23.1],\n",
       "       [20.4],\n",
       "       [18.5],\n",
       "       [25. ],\n",
       "       [24.6],\n",
       "       [23. ],\n",
       "       [22.2],\n",
       "       [19.3],\n",
       "       [22.6],\n",
       "       [19.8],\n",
       "       [17.1],\n",
       "       [19.4],\n",
       "       [22.2],\n",
       "       [20.7],\n",
       "       [21.1],\n",
       "       [19.5],\n",
       "       [18.5],\n",
       "       [20.6],\n",
       "       [19. ],\n",
       "       [18.7],\n",
       "       [32.7],\n",
       "       [16.5],\n",
       "       [23.9],\n",
       "       [31.2],\n",
       "       [17.5],\n",
       "       [17.2],\n",
       "       [23.1],\n",
       "       [24.5],\n",
       "       [26.6],\n",
       "       [22.9],\n",
       "       [24.1],\n",
       "       [18.6],\n",
       "       [30.1],\n",
       "       [18.2],\n",
       "       [20.6],\n",
       "       [17.8],\n",
       "       [21.7],\n",
       "       [22.7],\n",
       "       [22.6],\n",
       "       [25. ],\n",
       "       [19.9],\n",
       "       [20.8],\n",
       "       [16.8],\n",
       "       [21.9],\n",
       "       [27.5],\n",
       "       [21.9],\n",
       "       [23.1],\n",
       "       [50. ],\n",
       "       [50. ],\n",
       "       [50. ],\n",
       "       [50. ],\n",
       "       [50. ],\n",
       "       [13.8],\n",
       "       [13.8],\n",
       "       [15. ],\n",
       "       [13.9],\n",
       "       [13.3],\n",
       "       [13.1],\n",
       "       [10.2],\n",
       "       [10.4],\n",
       "       [10.9],\n",
       "       [11.3],\n",
       "       [12.3],\n",
       "       [ 8.8],\n",
       "       [ 7.2],\n",
       "       [10.5],\n",
       "       [ 7.4],\n",
       "       [10.2],\n",
       "       [11.5],\n",
       "       [15.1],\n",
       "       [23.2],\n",
       "       [ 9.7],\n",
       "       [13.8],\n",
       "       [12.7],\n",
       "       [13.1],\n",
       "       [12.5],\n",
       "       [ 8.5],\n",
       "       [ 5. ],\n",
       "       [ 6.3],\n",
       "       [ 5.6],\n",
       "       [ 7.2],\n",
       "       [12.1],\n",
       "       [ 8.3],\n",
       "       [ 8.5],\n",
       "       [ 5. ],\n",
       "       [11.9],\n",
       "       [27.9],\n",
       "       [17.2],\n",
       "       [27.5],\n",
       "       [15. ],\n",
       "       [17.2],\n",
       "       [17.9],\n",
       "       [16.3],\n",
       "       [ 7. ],\n",
       "       [ 7.2],\n",
       "       [ 7.5],\n",
       "       [10.4],\n",
       "       [ 8.8],\n",
       "       [ 8.4],\n",
       "       [16.7],\n",
       "       [14.2],\n",
       "       [20.8],\n",
       "       [13.4],\n",
       "       [11.7],\n",
       "       [ 8.3],\n",
       "       [10.2],\n",
       "       [10.9],\n",
       "       [11. ],\n",
       "       [ 9.5],\n",
       "       [14.5],\n",
       "       [14.1],\n",
       "       [16.1],\n",
       "       [14.3],\n",
       "       [11.7],\n",
       "       [13.4],\n",
       "       [ 9.6],\n",
       "       [ 8.7],\n",
       "       [ 8.4],\n",
       "       [12.8],\n",
       "       [10.5],\n",
       "       [17.1],\n",
       "       [18.4],\n",
       "       [15.4],\n",
       "       [10.8],\n",
       "       [11.8],\n",
       "       [14.9],\n",
       "       [12.6],\n",
       "       [14.1],\n",
       "       [13. ],\n",
       "       [13.4],\n",
       "       [15.2],\n",
       "       [16.1],\n",
       "       [17.8],\n",
       "       [14.9],\n",
       "       [14.1],\n",
       "       [12.7],\n",
       "       [13.5],\n",
       "       [14.9],\n",
       "       [20. ],\n",
       "       [16.4],\n",
       "       [17.7],\n",
       "       [19.5],\n",
       "       [20.2],\n",
       "       [21.4],\n",
       "       [19.9],\n",
       "       [19. ],\n",
       "       [19.1],\n",
       "       [19.1],\n",
       "       [20.1],\n",
       "       [19.9],\n",
       "       [19.6],\n",
       "       [23.2],\n",
       "       [29.8],\n",
       "       [13.8],\n",
       "       [13.3],\n",
       "       [16.7],\n",
       "       [12. ],\n",
       "       [14.6],\n",
       "       [21.4],\n",
       "       [23. ],\n",
       "       [23.7],\n",
       "       [25. ],\n",
       "       [21.8],\n",
       "       [20.6],\n",
       "       [21.2],\n",
       "       [19.1],\n",
       "       [20.6],\n",
       "       [15.2],\n",
       "       [ 7. ],\n",
       "       [ 8.1],\n",
       "       [13.6],\n",
       "       [20.1],\n",
       "       [21.8],\n",
       "       [24.5],\n",
       "       [23.1],\n",
       "       [19.7],\n",
       "       [18.3],\n",
       "       [21.2],\n",
       "       [17.5],\n",
       "       [16.8],\n",
       "       [22.4],\n",
       "       [20.6],\n",
       "       [23.9],\n",
       "       [22. ],\n",
       "       [11.9]])"
      ]
     },
     "execution_count": 224,
     "metadata": {},
     "output_type": "execute_result"
    }
   ],
   "source": [
    "target.reshape(-1, 1)"
   ]
  },
  {
   "cell_type": "code",
   "execution_count": 234,
   "id": "81386eff-6024-4097-8aeb-33670fd19db4",
   "metadata": {
    "scrolled": true
   },
   "outputs": [
    {
     "data": {
      "text/plain": [
       "array([24. , 21.6, 34.7, 33.4, 36.2, 28.7, 22.9, 27.1, 16.5, 18.9, 15. ,\n",
       "       18.9, 21.7, 20.4, 18.2, 19.9, 23.1, 17.5, 20.2, 18.2, 13.6, 19.6,\n",
       "       15.2, 14.5, 15.6, 13.9, 16.6, 14.8, 18.4, 21. , 12.7, 14.5, 13.2,\n",
       "       13.1, 13.5, 18.9, 20. , 21. , 24.7, 30.8, 34.9, 26.6, 25.3, 24.7,\n",
       "       21.2, 19.3, 20. , 16.6, 14.4, 19.4, 19.7, 20.5, 25. , 23.4, 18.9,\n",
       "       35.4, 24.7, 31.6, 23.3, 19.6, 18.7, 16. , 22.2, 25. , 33. , 23.5,\n",
       "       19.4, 22. , 17.4, 20.9, 24.2, 21.7, 22.8, 23.4, 24.1, 21.4, 20. ,\n",
       "       20.8, 21.2, 20.3, 28. , 23.9, 24.8, 22.9, 23.9, 26.6, 22.5, 22.2,\n",
       "       23.6, 28.7, 22.6, 22. , 22.9, 25. , 20.6, 28.4, 21.4, 38.7, 43.8,\n",
       "       33.2, 27.5, 26.5, 18.6, 19.3, 20.1, 19.5, 19.5, 20.4, 19.8, 19.4,\n",
       "       21.7, 22.8, 18.8, 18.7, 18.5, 18.3, 21.2, 19.2, 20.4, 19.3, 22. ,\n",
       "       20.3, 20.5, 17.3, 18.8, 21.4, 15.7, 16.2, 18. , 14.3, 19.2, 19.6,\n",
       "       23. , 18.4, 15.6, 18.1, 17.4, 17.1, 13.3, 17.8, 14. , 14.4, 13.4,\n",
       "       15.6, 11.8, 13.8, 15.6, 14.6, 17.8, 15.4, 21.5, 19.6, 15.3, 19.4,\n",
       "       17. , 15.6, 13.1, 41.3, 24.3, 23.3, 27. , 50. , 50. , 50. , 22.7,\n",
       "       25. , 50. , 23.8, 23.8, 22.3, 17.4, 19.1, 23.1, 23.6, 22.6, 29.4,\n",
       "       23.2, 24.6, 29.9, 37.2, 39.8, 36.2, 37.9, 32.5, 26.4, 29.6, 50. ,\n",
       "       32. , 29.8, 34.9, 37. , 30.5, 36.4, 31.1, 29.1, 50. , 33.3, 30.3,\n",
       "       34.6, 34.9, 32.9, 24.1, 42.3, 48.5, 50. , 22.6, 24.4, 22.5, 24.4,\n",
       "       20. , 21.7, 19.3, 22.4, 28.1, 23.7, 25. , 23.3, 28.7, 21.5, 23. ,\n",
       "       26.7, 21.7, 27.5, 30.1, 44.8, 50. , 37.6, 31.6, 46.7, 31.5, 24.3,\n",
       "       31.7, 41.7, 48.3, 29. , 24. , 25.1, 31.5, 23.7, 23.3, 22. , 20.1,\n",
       "       22.2, 23.7, 17.6, 18.5, 24.3, 20.5, 24.5, 26.2, 24.4, 24.8, 29.6,\n",
       "       42.8, 21.9, 20.9, 44. , 50. , 36. , 30.1, 33.8, 43.1, 48.8, 31. ,\n",
       "       36.5, 22.8, 30.7, 50. , 43.5, 20.7, 21.1, 25.2, 24.4, 35.2, 32.4,\n",
       "       32. , 33.2, 33.1, 29.1, 35.1, 45.4, 35.4, 46. , 50. , 32.2, 22. ,\n",
       "       20.1, 23.2, 22.3, 24.8, 28.5, 37.3, 27.9, 23.9, 21.7, 28.6, 27.1,\n",
       "       20.3, 22.5, 29. , 24.8, 22. , 26.4, 33.1, 36.1, 28.4, 33.4, 28.2,\n",
       "       22.8, 20.3, 16.1, 22.1, 19.4, 21.6, 23.8, 16.2, 17.8, 19.8, 23.1,\n",
       "       21. , 23.8, 23.1, 20.4, 18.5, 25. , 24.6, 23. , 22.2, 19.3, 22.6,\n",
       "       19.8, 17.1, 19.4, 22.2, 20.7, 21.1, 19.5, 18.5, 20.6, 19. , 18.7,\n",
       "       32.7, 16.5, 23.9, 31.2, 17.5, 17.2, 23.1, 24.5, 26.6, 22.9, 24.1,\n",
       "       18.6, 30.1, 18.2, 20.6, 17.8, 21.7, 22.7, 22.6, 25. , 19.9, 20.8,\n",
       "       16.8, 21.9, 27.5, 21.9, 23.1, 50. , 50. , 50. , 50. , 50. , 13.8,\n",
       "       13.8, 15. , 13.9, 13.3, 13.1, 10.2, 10.4, 10.9, 11.3, 12.3,  8.8,\n",
       "        7.2, 10.5,  7.4, 10.2, 11.5, 15.1, 23.2,  9.7, 13.8, 12.7, 13.1,\n",
       "       12.5,  8.5,  5. ,  6.3,  5.6,  7.2, 12.1,  8.3,  8.5,  5. , 11.9,\n",
       "       27.9, 17.2, 27.5, 15. , 17.2, 17.9, 16.3,  7. ,  7.2,  7.5, 10.4,\n",
       "        8.8,  8.4, 16.7, 14.2, 20.8, 13.4, 11.7,  8.3, 10.2, 10.9, 11. ,\n",
       "        9.5, 14.5, 14.1, 16.1, 14.3, 11.7, 13.4,  9.6,  8.7,  8.4, 12.8,\n",
       "       10.5, 17.1, 18.4, 15.4, 10.8, 11.8, 14.9, 12.6, 14.1, 13. , 13.4,\n",
       "       15.2, 16.1, 17.8, 14.9, 14.1, 12.7, 13.5, 14.9, 20. , 16.4, 17.7,\n",
       "       19.5, 20.2, 21.4, 19.9, 19. , 19.1, 19.1, 20.1, 19.9, 19.6, 23.2,\n",
       "       29.8, 13.8, 13.3, 16.7, 12. , 14.6, 21.4, 23. , 23.7, 25. , 21.8,\n",
       "       20.6, 21.2, 19.1, 20.6, 15.2,  7. ,  8.1, 13.6, 20.1, 21.8, 24.5,\n",
       "       23.1, 19.7, 18.3, 21.2, 17.5, 16.8, 22.4, 20.6, 23.9, 22. , 11.9])"
      ]
     },
     "execution_count": 234,
     "metadata": {},
     "output_type": "execute_result"
    }
   ],
   "source": [
    "target"
   ]
  },
  {
   "cell_type": "code",
   "execution_count": 253,
   "id": "938d5469-8c1c-4a8f-82ae-c842864a0d5e",
   "metadata": {},
   "outputs": [
    {
     "data": {
      "image/png": "[encoded data removed]",
      "text/plain": [
       "<Figure size 432x360 with 1 Axes>"
      ]
     },
     "metadata": {
      "needs_background": "light"
     },
     "output_type": "display_data"
    }
   ],
   "source": [
    "# 设置画布大小\n",
    "plt.figure(figsize=(6, 5))\n",
    "\n",
    "# 初始化参数\n",
    "theta = np.random.randn(2, 1)  # 随机生成初始参数\n",
    "eta = 1e-5  # 学习率\n",
    "loss = 0  # 损失值初始化\n",
    "last_loss = 1  # 上一轮损失值初始化\n",
    "epsilon = 1e-8  # 添加一个小的正数防止除以零的情况\n",
    "\n",
    "# 迭代更新参数\n",
    "for j in range(10):  # 外层循环，进行10次迭代\n",
    "    for i in range(8000):  # 内层循环，每次迭代8000次\n",
    "        # 如果损失值变化小于阈值，则跳出内层循环\n",
    "        if np.abs(loss - last_loss) < 1e-5:\n",
    "            break\n",
    "        # 计算梯度\n",
    "        g = X_train.T.dot(X_train.dot(theta) - target.reshape(-1, 1)) + epsilon\n",
    "        # 更新参数\n",
    "        theta = theta - eta * g\n",
    "        # 更新上一轮损失值\n",
    "        last_loss = loss\n",
    "        # 计算当前损失值\n",
    "        loss = np.sum((X_train.dot(theta) - target.reshape(-1, 1))**2)\n",
    "    # 生成测试数据\n",
    "    X_test = np.linspace(X_train[:, 0].min(), X_train[:, 0].max(), num=1000).reshape(-1, 1)\n",
    "    y_ =  theta[0] * X_test + theta[1]\n",
    "    # 绘制训练数据的散点图\n",
    "    plt.scatter(X_train[:, 0], target)\n",
    "    # 绘制拟合直线\n",
    "    plt.plot(X_test, y_, c='r')\n",
    "\n",
    "# 显示图像\n",
    "plt.show()"
   ]
  },
  {
   "cell_type": "code",
   "execution_count": 252,
   "id": "c61aff0a-b3fd-442c-baa3-619fc01618ea",
   "metadata": {},
   "outputs": [
    {
     "data": {
      "text/plain": [
       "array([[  9.08934736],\n",
       "       [-34.58944259]])"
      ]
     },
     "execution_count": 252,
     "metadata": {},
     "output_type": "execute_result"
    }
   ],
   "source": [
    "# 查看模型参数\n",
    "theta"
   ]
  },
  {
   "cell_type": "code",
   "execution_count": null,
   "id": "cb3ae6b8-66e0-4af2-8b96-f610f5c1df8c",
   "metadata": {},
   "outputs": [],
   "source": []
  }
 ],
 "metadata": {
  "kernelspec": {
   "display_name": "Python 3 (ipykernel)",
   "language": "python",
   "name": "python3"
  },
  "language_info": {
   "codemirror_mode": {
    "name": "ipython",
    "version": 3
   },
   "file_extension": ".py",
   "mimetype": "text/x-python",
   "name": "python",
   "nbconvert_exporter": "python",
   "pygments_lexer": "ipython3",
   "version": "3.10.7"
  }
 },
 "nbformat": 4,
 "nbformat_minor": 5
}
